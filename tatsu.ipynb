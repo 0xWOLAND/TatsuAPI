{
 "cells": [
  {
   "cell_type": "code",
   "execution_count": 92,
   "metadata": {},
   "outputs": [],
   "source": [
    "import os\n",
    "import sys\n",
    "import numpy as np\n",
    "import matplotlib.pyplot as plt\n",
    "import pandas as pd\n",
    "import requests\n",
    "from matplotlib.colors import LogNorm\n",
    "import matplotlib as mpl\n",
    "import glob\n",
    "import os\n",
    "from os import listdir\n",
    "from os.path import isfile, join\n",
    "import pickle\n",
    "\n",
    "def myjet(m=256):\n",
    "\n",
    "    cdict1 = {'red':((0.0, 0.0, 0.0),\n",
    "                   ( 0.4, 0.0, 0.0),\n",
    "                   ( 0.6, 1.0, 1.0),\n",
    "                   ( 1, 0.4, 0.4)),\n",
    "\n",
    "         'green': ((0.0, 0.0, 0.0),\n",
    "                   (0.1, 0.0, 0.0),\n",
    "                   (0.5, 1.0, 1.0),\n",
    "                   (0.9, 0.0, 0.0),\n",
    "                   (1.0, 0.0, 0.0)),\n",
    "\n",
    "         'blue':  ((0.0, 0.4, 0.4),\n",
    "                   (0.4, 1.0, 1.0),\n",
    "                   (0.6, 0.0, 0.0),\n",
    "                   (1.0, 0.0, 0.0))\n",
    "        }\n",
    "\n",
    "    return mpl.colors.LinearSegmentedColormap('myjet', cdict1, m)\n",
    "hfont = {'fontname':'Courier New','fontsize':15,'fontweight':'bold'}\n",
    "\n",
    "API_KEY = \"Dpqp6iqqGk-pMm3JOp16s2FosHrzva7o3\"\n",
    "GUILD_ID = \"730989895517995060\"\n",
    "BASE_URL = \"https://api.tatsu.gg/v1/\""
   ]
  },
  {
   "cell_type": "code",
   "execution_count": 97,
   "metadata": {},
   "outputs": [
    {
     "data": {
      "text/plain": [
       "{'code': 0, 'message': '404: Not Found'}"
      ]
     },
     "execution_count": 97,
     "metadata": {},
     "output_type": "execute_result"
    }
   ],
   "source": [
    "requests.get(f'{BASE_URL}', headers={'Authorization' : API_KEY}).json()"
   ]
  },
  {
   "cell_type": "code",
   "execution_count": 80,
   "metadata": {},
   "outputs": [
    {
     "name": "stdout",
     "output_type": "stream",
     "text": [
      "YuAgain 116372 446744687798255616 1 1482\n"
     ]
    }
   ],
   "source": [
    "from tatsu.wrapper import ApiWrapper\n",
    "from discord import * \n",
    "\n",
    "\n",
    "wrapper = ApiWrapper(key=API_KEY)\n",
    "result = await wrapper.get_guild_rankings(GUILD_ID, timeframe=\"month\", offset=0)\n",
    "top = result.rankings[0]\n",
    "profile = await wrapper.get_profile(top.user_id)\n",
    "print(profile.username, profile.credits, top.user_id, top.rank, top.score) \n"
   ]
  },
  {
   "cell_type": "code",
   "execution_count": 67,
   "metadata": {},
   "outputs": [
    {
     "ename": "TypeError",
     "evalue": "Client.__init__() takes 1 positional argument but 2 were given",
     "output_type": "error",
     "traceback": [
      "\u001b[0;31m---------------------------------------------------------------------------\u001b[0m",
      "\u001b[0;31mTypeError\u001b[0m                                 Traceback (most recent call last)",
      "Cell \u001b[0;32mIn[67], line 1\u001b[0m\n\u001b[0;32m----> 1\u001b[0m client \u001b[39m=\u001b[39m Client(GUILD_ID)\n",
      "\u001b[0;31mTypeError\u001b[0m: Client.__init__() takes 1 positional argument but 2 were given"
     ]
    }
   ],
   "source": []
  },
  {
   "cell_type": "code",
   "execution_count": 61,
   "metadata": {},
   "outputs": [
    {
     "ename": "TypeError",
     "evalue": "Client.get_user() missing 1 required positional argument: 'id'",
     "output_type": "error",
     "traceback": [
      "\u001b[0;31m---------------------------------------------------------------------------\u001b[0m",
      "\u001b[0;31mTypeError\u001b[0m                                 Traceback (most recent call last)",
      "Cell \u001b[0;32mIn[61], line 1\u001b[0m\n\u001b[0;32m----> 1\u001b[0m Client\u001b[39m.\u001b[39;49mget_user(\u001b[39mint\u001b[39;49m(top\u001b[39m.\u001b[39;49muser_id))\n",
      "\u001b[0;31mTypeError\u001b[0m: Client.get_user() missing 1 required positional argument: 'id'"
     ]
    }
   ],
   "source": [
    "Client.get_user(int(top.user_id))"
   ]
  }
 ],
 "metadata": {
  "kernelspec": {
   "display_name": "Python 3",
   "language": "python",
   "name": "python3"
  },
  "language_info": {
   "codemirror_mode": {
    "name": "ipython",
    "version": 3
   },
   "file_extension": ".py",
   "mimetype": "text/x-python",
   "name": "python",
   "nbconvert_exporter": "python",
   "pygments_lexer": "ipython3",
   "version": "3.10.6"
  },
  "orig_nbformat": 4,
  "vscode": {
   "interpreter": {
    "hash": "31f2aee4e71d21fbe5cf8b01ff0e069b9275f58929596ceb00d14d90e3e16cd6"
   }
  }
 },
 "nbformat": 4,
 "nbformat_minor": 2
}
